{
  "cells": [
    {
      "attachments": {},
      "cell_type": "markdown",
      "metadata": {
        "colab_type": "text",
        "id": "view-in-github"
      },
      "source": [
        "<a href=\"https://colab.research.google.com/github/nguyetmle/voting-distortion/blob/main/Voting_Distortion.ipynb\" target=\"_parent\"><img src=\"https://colab.research.google.com/assets/colab-badge.svg\" alt=\"Open In Colab\"/></a>"
      ]
    },
    {
      "cell_type": "code",
      "execution_count": 36,
      "metadata": {
        "id": "skJeofe64q_F"
      },
      "outputs": [],
      "source": [
        "from VoteRules import VoteResult\n",
        "import pandas as pd\n",
        "\n",
        "\n",
        "df = pd.DataFrame()\n",
        "\n",
        "  \n",
        "\n",
        "  \n",
        "\n"
      ]
    },
    {
      "cell_type": "code",
      "execution_count": 37,
      "metadata": {},
      "outputs": [
        {
          "name": "stdout",
          "output_type": "stream",
          "text": [
            "0\n"
          ]
        },
        {
          "ename": "AttributeError",
          "evalue": "'tuple' object has no attribute 'x'",
          "output_type": "error",
          "traceback": [
            "\u001b[0;31m---------------------------------------------------------------------------\u001b[0m",
            "\u001b[0;31mAttributeError\u001b[0m                            Traceback (most recent call last)",
            "Cell \u001b[0;32mIn[37], line 15\u001b[0m\n\u001b[1;32m     13\u001b[0m df[\u001b[39m\"\u001b[39m\u001b[39mCopeland Distortion\u001b[39m\u001b[39m\"\u001b[39m] \u001b[39m=\u001b[39m test\u001b[39m.\u001b[39mdistortion(test\u001b[39m.\u001b[39mcopeland())\n\u001b[1;32m     14\u001b[0m df[\u001b[39m\"\u001b[39m\u001b[39mSTV\u001b[39m\u001b[39m\"\u001b[39m] \u001b[39m=\u001b[39m test\u001b[39m.\u001b[39mSTV()\n\u001b[0;32m---> 15\u001b[0m df[\u001b[39m\"\u001b[39m\u001b[39mSTV Distortion\u001b[39m\u001b[39m\"\u001b[39m] \u001b[39m=\u001b[39m test\u001b[39m.\u001b[39;49mdistortion(test\u001b[39m.\u001b[39;49mSTV())\n\u001b[1;32m     16\u001b[0m df[\u001b[39m\"\u001b[39m\u001b[39mBorda\u001b[39m\u001b[39m\"\u001b[39m] \u001b[39m=\u001b[39m test\u001b[39m.\u001b[39mborda()\n\u001b[1;32m     17\u001b[0m df[\u001b[39m\"\u001b[39m\u001b[39mBorda Distortion\u001b[39m\u001b[39m\"\u001b[39m] \u001b[39m=\u001b[39m test\u001b[39m.\u001b[39mdistortion(test\u001b[39m.\u001b[39mborda())\n",
            "File \u001b[0;32m~/Dropbox/Mac/Documents/Summer Research/Simulation/voting-distortion/VoteRules.py:256\u001b[0m, in \u001b[0;36mVoteResult.distortion\u001b[0;34m(self, candidate)\u001b[0m\n\u001b[1;32m    254\u001b[0m sumDistance \u001b[39m=\u001b[39m \u001b[39m0\u001b[39m \n\u001b[1;32m    255\u001b[0m \u001b[39mfor\u001b[39;00m voter \u001b[39min\u001b[39;00m \u001b[39mself\u001b[39m\u001b[39m.\u001b[39mvoters:\n\u001b[0;32m--> 256\u001b[0m     distance \u001b[39m=\u001b[39m \u001b[39mabs\u001b[39m(voter\u001b[39m.\u001b[39mx \u001b[39m-\u001b[39m candidate\u001b[39m.\u001b[39;49mx)\n\u001b[1;32m    257\u001b[0m     sumDistance \u001b[39m+\u001b[39m\u001b[39m=\u001b[39m distance\n\u001b[1;32m    260\u001b[0m distortion \u001b[39m=\u001b[39m sumDistance \u001b[39m/\u001b[39m \u001b[39mself\u001b[39m\u001b[39m.\u001b[39mminDistance\n",
            "\u001b[0;31mAttributeError\u001b[0m: 'tuple' object has no attribute 'x'"
          ]
        }
      ],
      "source": [
        "for i in range(100):\n",
        "    print(i)\n",
        "    test = VoteResult(100, 5)\n",
        "    df[\"n\"] = 100\n",
        "    df[\"m\"] = 5\n",
        "\n",
        "    df[\"Distribution\"] = test.distribution\n",
        "    \n",
        "    df[\"OPT\"] = test.OPTcandidate\n",
        "    df[\"Plurality\"] = test.plurality()\n",
        "    df[\"Plurality Distortion\"] = test.distortion(test.plurality())\n",
        "    df[\"Copeland\"] = test.copeland()\n",
        "    df[\"Copeland Distortion\"] = test.distortion(test.copeland())\n",
        "    df[\"STV\"] = test.STV()\n",
        "    df[\"STV Distortion\"] = test.distortion(test.STV())\n",
        "    df[\"Borda\"] = test.borda()\n",
        "    df[\"Borda Distortion\"] = test.distortion(test.borda())\n",
        "    df[\"STAR\"] = test.STAR()\n",
        "    df[\"STAR Distortion\"] = test.distortion(test.STAR())\n",
        "  "
      ]
    },
    {
      "cell_type": "code",
      "execution_count": 31,
      "metadata": {},
      "outputs": [
        {
          "data": {
            "text/html": [
              "<div>\n",
              "<style scoped>\n",
              "    .dataframe tbody tr th:only-of-type {\n",
              "        vertical-align: middle;\n",
              "    }\n",
              "\n",
              "    .dataframe tbody tr th {\n",
              "        vertical-align: top;\n",
              "    }\n",
              "\n",
              "    .dataframe thead th {\n",
              "        text-align: right;\n",
              "    }\n",
              "</style>\n",
              "<table border=\"1\" class=\"dataframe\">\n",
              "  <thead>\n",
              "    <tr style=\"text-align: right;\">\n",
              "      <th></th>\n",
              "      <th>n</th>\n",
              "      <th>m</th>\n",
              "      <th>Distribution</th>\n",
              "      <th>OPT</th>\n",
              "      <th>Plurality</th>\n",
              "      <th>Plurality Distortion</th>\n",
              "      <th>Copeland</th>\n",
              "      <th>Copeland Distortion</th>\n",
              "      <th>STV</th>\n",
              "      <th>Borda</th>\n",
              "      <th>Borda Distortion</th>\n",
              "      <th>STAR</th>\n",
              "    </tr>\n",
              "  </thead>\n",
              "  <tbody>\n",
              "    <tr>\n",
              "      <th>0</th>\n",
              "      <td>100</td>\n",
              "      <td>5</td>\n",
              "      <td>normal</td>\n",
              "      <td>Candidate 1</td>\n",
              "      <td>Candidate 2</td>\n",
              "      <td>1.379606</td>\n",
              "      <td>Candidate 1</td>\n",
              "      <td>1.0</td>\n",
              "      <td>Candidate 0</td>\n",
              "      <td>Candidate 1</td>\n",
              "      <td>1.0</td>\n",
              "      <td>Candidate 1</td>\n",
              "    </tr>\n",
              "    <tr>\n",
              "      <th>1</th>\n",
              "      <td>100</td>\n",
              "      <td>5</td>\n",
              "      <td>normal</td>\n",
              "      <td>Candidate 1</td>\n",
              "      <td>Candidate 2</td>\n",
              "      <td>1.379606</td>\n",
              "      <td>Candidate 1</td>\n",
              "      <td>1.0</td>\n",
              "      <td>False</td>\n",
              "      <td>Candidate 1</td>\n",
              "      <td>1.0</td>\n",
              "      <td>Candidate 1</td>\n",
              "    </tr>\n",
              "  </tbody>\n",
              "</table>\n",
              "</div>"
            ],
            "text/plain": [
              "     n  m Distribution          OPT    Plurality  Plurality Distortion  \\\n",
              "0  100  5       normal  Candidate 1  Candidate 2              1.379606   \n",
              "1  100  5       normal  Candidate 1  Candidate 2              1.379606   \n",
              "\n",
              "      Copeland  Copeland Distortion          STV        Borda  \\\n",
              "0  Candidate 1                  1.0  Candidate 0  Candidate 1   \n",
              "1  Candidate 1                  1.0        False  Candidate 1   \n",
              "\n",
              "   Borda Distortion         STAR  \n",
              "0               1.0  Candidate 1  \n",
              "1               1.0  Candidate 1  "
            ]
          },
          "execution_count": 31,
          "metadata": {},
          "output_type": "execute_result"
        }
      ],
      "source": [
        "df"
      ]
    },
    {
      "cell_type": "code",
      "execution_count": 25,
      "metadata": {},
      "outputs": [
        {
          "name": "stdout",
          "output_type": "stream",
          "text": [
            "false\n"
          ]
        }
      ],
      "source": []
    }
  ],
  "metadata": {
    "colab": {
      "authorship_tag": "ABX9TyOSsh/toEue5+hmHTYoGw9+",
      "include_colab_link": true,
      "provenance": []
    },
    "kernelspec": {
      "display_name": "Python 3",
      "name": "python3"
    },
    "language_info": {
      "codemirror_mode": {
        "name": "ipython",
        "version": 3
      },
      "file_extension": ".py",
      "mimetype": "text/x-python",
      "name": "python",
      "nbconvert_exporter": "python",
      "pygments_lexer": "ipython3",
      "version": "3.10.6"
    }
  },
  "nbformat": 4,
  "nbformat_minor": 0
}
