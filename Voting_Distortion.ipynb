{
  "cells": [
    {
      "attachments": {},
      "cell_type": "markdown",
      "metadata": {
        "colab_type": "text",
        "id": "view-in-github"
      },
      "source": [
        "<a href=\"https://colab.research.google.com/github/nguyetmle/voting-distortion/blob/main/Voting_Distortion.ipynb\" target=\"_parent\"><img src=\"https://colab.research.google.com/assets/colab-badge.svg\" alt=\"Open In Colab\"/></a>"
      ]
    },
    {
      "cell_type": "code",
      "execution_count": 8,
      "metadata": {
        "id": "skJeofe64q_F"
      },
      "outputs": [],
      "source": [
        "from VoteRules import VoteResult\n",
        "import pandas as pd\n",
        "\n",
        "\n",
        "df = pd.DataFrame()\n",
        "\n",
        "  \n",
        "\n",
        "  \n",
        "\n"
      ]
    },
    {
      "cell_type": "code",
      "execution_count": 9,
      "metadata": {},
      "outputs": [
        {
          "ename": "TypeError",
          "evalue": "VoteResult.getScores() takes 2 positional arguments but 3 were given",
          "output_type": "error",
          "traceback": [
            "\u001b[0;31m---------------------------------------------------------------------------\u001b[0m",
            "\u001b[0;31mTypeError\u001b[0m                                 Traceback (most recent call last)",
            "Cell \u001b[0;32mIn[9], line 17\u001b[0m\n\u001b[1;32m     15\u001b[0m df[\u001b[39m\"\u001b[39m\u001b[39mBorda\u001b[39m\u001b[39m\"\u001b[39m] \u001b[39m=\u001b[39m test\u001b[39m.\u001b[39mborda()\n\u001b[1;32m     16\u001b[0m \u001b[39m#df[\"Plurality Distortion\"] = test.distortion(test.borda())\u001b[39;00m\n\u001b[0;32m---> 17\u001b[0m df[\u001b[39m\"\u001b[39m\u001b[39mSTAR\u001b[39m\u001b[39m\"\u001b[39m] \u001b[39m=\u001b[39m test\u001b[39m.\u001b[39;49mSTAR()\n\u001b[1;32m     18\u001b[0m \u001b[39m#df[\"Plurality Distortion\"] = test.distortion(test.STAR())\u001b[39;00m\n",
            "File \u001b[0;32m~/Dropbox/Mac/Documents/Summer Research/Simulation/voting-distortion/VoteRules.py:246\u001b[0m, in \u001b[0;36mVoteResult.STAR\u001b[0;34m(self)\u001b[0m\n\u001b[1;32m    245\u001b[0m \u001b[39mdef\u001b[39;00m \u001b[39mSTAR\u001b[39m(\u001b[39mself\u001b[39m):\n\u001b[0;32m--> 246\u001b[0m     finalScores \u001b[39m=\u001b[39m \u001b[39mself\u001b[39;49m\u001b[39m.\u001b[39;49mgetScores(\u001b[39mself\u001b[39;49m\u001b[39m.\u001b[39;49mvoters, \u001b[39mself\u001b[39;49m\u001b[39m.\u001b[39;49mcandidates)\n\u001b[1;32m    247\u001b[0m     sorted_dict \u001b[39m=\u001b[39m \u001b[39msorted\u001b[39m(finalScores, key \u001b[39m=\u001b[39m finalScores\u001b[39m.\u001b[39mget, reverse\u001b[39m=\u001b[39m\u001b[39mTrue\u001b[39;00m)\n\u001b[1;32m    248\u001b[0m     firstCandidate \u001b[39m=\u001b[39m sorted_dict[\u001b[39m0\u001b[39m]\n",
            "\u001b[0;31mTypeError\u001b[0m: VoteResult.getScores() takes 2 positional arguments but 3 were given"
          ]
        }
      ],
      "source": [
        "for i in range(1000):\n",
        "  test = VoteResult(100, 5)\n",
        "  df[\"n\"] = 100\n",
        "  df[\"m\"] = 5\n",
        "\n",
        "  df[\"Distribution\"] = test.distribution\n",
        "  \n",
        "  df[\"OPT\"] = test.OPTcandidate\n",
        "  df[\"Plurality\"] = test.plurality()\n",
        "  df[\"Plurality Distortion\"] = test.distortion(test.plurality())\n",
        "  df[\"Copeland\"] = test.copeland()\n",
        "  #df[\"Plurality Distortion\"] = test.distortion(test.copeland())\n",
        "  df[\"STV\"] = test.STV()\n",
        "  #df[\"Plurality Distortion\"] = test.distortion(test.STV())\n",
        "  df[\"Borda\"] = test.borda()\n",
        "  #df[\"Plurality Distortion\"] = test.distortion(test.borda())\n",
        "  df[\"STAR\"] = test.STAR()\n",
        "  #df[\"Plurality Distortion\"] = test.distortion(test.STAR())"
      ]
    }
  ],
  "metadata": {
    "colab": {
      "authorship_tag": "ABX9TyOSsh/toEue5+hmHTYoGw9+",
      "include_colab_link": true,
      "provenance": []
    },
    "kernelspec": {
      "display_name": "Python 3",
      "name": "python3"
    },
    "language_info": {
      "codemirror_mode": {
        "name": "ipython",
        "version": 3
      },
      "file_extension": ".py",
      "mimetype": "text/x-python",
      "name": "python",
      "nbconvert_exporter": "python",
      "pygments_lexer": "ipython3",
      "version": "3.10.6"
    }
  },
  "nbformat": 4,
  "nbformat_minor": 0
}
