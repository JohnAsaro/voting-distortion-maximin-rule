{
  "cells": [
    {
      "attachments": {},
      "cell_type": "markdown",
      "metadata": {
        "colab_type": "text",
        "id": "view-in-github"
      },
      "source": [
        "<a href=\"https://colab.research.google.com/github/nguyetmle/voting-distortion/blob/main/Voting_Distortion.ipynb\" target=\"_parent\"><img src=\"https://colab.research.google.com/assets/colab-badge.svg\" alt=\"Open In Colab\"/></a>"
      ]
    },
    {
      "cell_type": "markdown",
      "metadata": {},
      "source": [
        "## Generation of Voting Profiles in Different Distributions and Dimensions\n",
        "Input: number of experiments, number of voters, number of candidates, dimension, distribution\n",
        "Output: Distortion value for each voting profile (written to output.txt file)"
      ]
    },
    {
      "cell_type": "code",
      "execution_count": 1,
      "metadata": {},
      "outputs": [],
      "source": [
        "from VoteRules3D import VoteResult3D\n",
        "import pandas as pd"
      ]
    },
    {
      "cell_type": "code",
      "execution_count": 2,
      "metadata": {},
      "outputs": [],
      "source": [
        "def simulate(numTest,n,m, dimension, distribution):\n",
        "    dict = {\"n\":[], \"m\":[], \"Dimension\":[], \"Distribution\":[], \"OPT\":[], \"Plurality\":[], \"Plurality Distortion\":[],\n",
        "    \"Copeland\":[], \"Copeland Distortion\":[], \"STV\":[], \"STV Distortion\":[],\n",
        "    \"Borda\":[], \"Borda Distortion\":[], \"STAR\":[], \"STAR Distortion\":[],\n",
        "    \"Plurality Veto\":[], \"Plurality Veto Distortion\":[], \"Maximin\":[], \"Maximin Distortion\":[]}\n",
        "\n",
        "    # dict = {\"n\":[], \"m\":[], \"Dimension\":[], \"Distribution\":[], \"OPT\":[], \"Plurality\":[], \"Plurality Distortion\":[],\n",
        "    # \"Copeland\":[], \"Copeland Distortion\":[],\n",
        "    # \"Borda\":[], \"Borda Distortion\":[]}\n",
        "    \n",
        "    for i in range(numTest):\n",
        "        test = VoteResult3D(n, m, dimension, distribution)\n",
        "        dict[\"n\"].append(n)\n",
        "        dict[\"m\"].append(m)\n",
        "        dict[\"Dimension\"].append(dimension)\n",
        "        dict[\"Distribution\"].append(test.distribution)\n",
        "        dict[\"OPT\"].append(test.OPTcandidate)\n",
        "\n",
        "        #winners \n",
        "        plurality = test.plurality()\n",
        "        copeland = test.copeland(0.5)\n",
        "        stv = test.STV()\n",
        "        borda = test.borda()\n",
        "        star = test.STAR()\n",
        "        pluralityVeto = test.pluralityVeto()\n",
        "        maximin = test.maximin()\n",
        "\n",
        "        dict[\"Plurality\"].append(plurality)\n",
        "        dict[\"Copeland\"].append(copeland)\n",
        "        dict[\"STV\"].append(stv)\n",
        "        dict[\"Borda\"].append(borda)\n",
        "        dict[\"STAR\"].append(star)\n",
        "        dict[\"Plurality Veto\"].append(pluralityVeto)\n",
        "        dict[\"Maximin\"].append(maximin)\n",
        "\n",
        "        dict[\"Plurality Distortion\"].append(test.distortion(plurality))\n",
        "        dict[\"Copeland Distortion\"].append(test.distortion(copeland))\n",
        "        dict[\"STV Distortion\"].append(test.distortion(stv))\n",
        "        dict[\"Borda Distortion\"].append(test.distortion(borda))\n",
        "        dict[\"STAR Distortion\"].append(test.distortion(star))\n",
        "        dict[\"Plurality Veto Distortion\"].append(test.distortion(pluralityVeto))\n",
        "        dict[\"Maximin Distortion\"].append(test.distortion(maximin))\n",
        "        \n",
        "    df = pd.DataFrame(dict)\n",
        "    df.to_csv('output1D_different_n.csv', mode=\"a\",header=None)\n",
        "\n",
        "# Now you have a DataFrame df with the results of your simulations\n"
      ]
    },
    {
      "cell_type": "code",
      "execution_count": 3,
      "metadata": {},
      "outputs": [
        {
          "ename": "AttributeError",
          "evalue": "'VoteResult3D' object has no attribute 'maximin'",
          "output_type": "error",
          "traceback": [
            "\u001b[1;31m---------------------------------------------------------------------------\u001b[0m",
            "\u001b[1;31mAttributeError\u001b[0m                            Traceback (most recent call last)",
            "Cell \u001b[1;32mIn[3], line 8\u001b[0m\n\u001b[0;32m      6\u001b[0m     \u001b[38;5;28;01mfor\u001b[39;00m n \u001b[38;5;129;01min\u001b[39;00m narray:\n\u001b[0;32m      7\u001b[0m         \u001b[38;5;28;01mfor\u001b[39;00m m \u001b[38;5;129;01min\u001b[39;00m marray:\n\u001b[1;32m----> 8\u001b[0m             \u001b[43msimulate\u001b[49m\u001b[43m(\u001b[49m\u001b[38;5;241;43m500\u001b[39;49m\u001b[43m,\u001b[49m\u001b[43m \u001b[49m\u001b[43mn\u001b[49m\u001b[43m,\u001b[49m\u001b[43m \u001b[49m\u001b[43mm\u001b[49m\u001b[43m,\u001b[49m\u001b[43m \u001b[49m\u001b[38;5;124;43m\"\u001b[39;49m\u001b[38;5;124;43m1D\u001b[39;49m\u001b[38;5;124;43m\"\u001b[39;49m\u001b[43m,\u001b[49m\u001b[43m \u001b[49m\u001b[43md\u001b[49m\u001b[43m)\u001b[49m\n\u001b[0;32m      9\u001b[0m             \u001b[38;5;28mprint\u001b[39m(\u001b[38;5;124m\"\u001b[39m\u001b[38;5;124mDone with n = \u001b[39m\u001b[38;5;124m\"\u001b[39m \u001b[38;5;241m+\u001b[39m \u001b[38;5;28mstr\u001b[39m(n) \u001b[38;5;241m+\u001b[39m \u001b[38;5;124m\"\u001b[39m\u001b[38;5;124m and m = \u001b[39m\u001b[38;5;124m\"\u001b[39m \u001b[38;5;241m+\u001b[39m \u001b[38;5;28mstr\u001b[39m(m) \u001b[38;5;241m+\u001b[39m \u001b[38;5;124m\"\u001b[39m\u001b[38;5;124m and distribution = \u001b[39m\u001b[38;5;124m\"\u001b[39m \u001b[38;5;241m+\u001b[39m d) \u001b[38;5;66;03m#To keep track of progress\u001b[39;00m\n\u001b[0;32m     10\u001b[0m \u001b[38;5;28mprint\u001b[39m(\u001b[38;5;124m\"\u001b[39m\u001b[38;5;124mDone!\u001b[39m\u001b[38;5;124m\"\u001b[39m)\n",
            "Cell \u001b[1;32mIn[2], line 26\u001b[0m, in \u001b[0;36msimulate\u001b[1;34m(numTest, n, m, dimension, distribution)\u001b[0m\n\u001b[0;32m     24\u001b[0m star \u001b[38;5;241m=\u001b[39m test\u001b[38;5;241m.\u001b[39mSTAR()\n\u001b[0;32m     25\u001b[0m pluralityVeto \u001b[38;5;241m=\u001b[39m test\u001b[38;5;241m.\u001b[39mpluralityVeto()\n\u001b[1;32m---> 26\u001b[0m maximin \u001b[38;5;241m=\u001b[39m \u001b[43mtest\u001b[49m\u001b[38;5;241;43m.\u001b[39;49m\u001b[43mmaximin\u001b[49m()\n\u001b[0;32m     28\u001b[0m \u001b[38;5;28mdict\u001b[39m[\u001b[38;5;124m\"\u001b[39m\u001b[38;5;124mPlurality\u001b[39m\u001b[38;5;124m\"\u001b[39m]\u001b[38;5;241m.\u001b[39mappend(plurality)\n\u001b[0;32m     29\u001b[0m \u001b[38;5;28mdict\u001b[39m[\u001b[38;5;124m\"\u001b[39m\u001b[38;5;124mCopeland\u001b[39m\u001b[38;5;124m\"\u001b[39m]\u001b[38;5;241m.\u001b[39mappend(copeland)\n",
            "\u001b[1;31mAttributeError\u001b[0m: 'VoteResult3D' object has no attribute 'maximin'"
          ]
        }
      ],
      "source": [
        "dist = [\"normal\",\"uniform\", \"poisson\", \"bimodal\"]\n",
        "marray = [5, 10, 30, 50, 75, 100]\n",
        "narray = [5, 25, 50, 75, 100, 200]\n",
        "\n",
        "for d in dist:\n",
        "    for n in narray:\n",
        "        for m in marray:\n",
        "            simulate(500, n, m, \"1D\", d)\n",
        "            print(\"Done with n = \" + str(n) + \" and m = \" + str(m) + \" and distribution = \" + d) #To keep track of progress\n",
        "print(\"Done!\")"
      ]
    }
  ],
  "metadata": {
    "colab": {
      "authorship_tag": "ABX9TyOSsh/toEue5+hmHTYoGw9+",
      "include_colab_link": true,
      "provenance": []
    },
    "kernelspec": {
      "display_name": "Python 3",
      "name": "python3"
    },
    "language_info": {
      "codemirror_mode": {
        "name": "ipython",
        "version": 3
      },
      "file_extension": ".py",
      "mimetype": "text/x-python",
      "name": "python",
      "nbconvert_exporter": "python",
      "pygments_lexer": "ipython3",
      "version": "3.12.3"
    }
  },
  "nbformat": 4,
  "nbformat_minor": 0
}
