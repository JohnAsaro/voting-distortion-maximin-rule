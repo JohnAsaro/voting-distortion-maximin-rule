{
  "cells": [
    {
      "attachments": {},
      "cell_type": "markdown",
      "metadata": {
        "colab_type": "text",
        "id": "view-in-github"
      },
      "source": [
        "<a href=\"https://colab.research.google.com/github/nguyetmle/voting-distortion/blob/main/Voting_Distortion.ipynb\" target=\"_parent\"><img src=\"https://colab.research.google.com/assets/colab-badge.svg\" alt=\"Open In Colab\"/></a>"
      ]
    },
    {
      "cell_type": "code",
      "execution_count": 1,
      "metadata": {},
      "outputs": [],
      "source": [
        "from VoteRules3D import VoteResult3D\n",
        "import pandas as pd\n",
        "\n",
        "\n",
        "\n"
      ]
    },
    {
      "cell_type": "code",
      "execution_count": 2,
      "metadata": {},
      "outputs": [],
      "source": [
        "def simulate(numTest,n,m, dimension, distribution):\n",
        "    dict = {\"n\":[], \"m\":[], \"Dimension\":[], \"Distribution\":[], \"OPT\":[], \"Plurality\":[], \"Plurality Distortion\":[],\n",
        "    \"Copeland\":[], \"Copeland Distortion\":[], \"STV\":[], \"STV Distortion\":[],\n",
        "    \"Borda\":[], \"Borda Distortion\":[], \"STAR\":[], \"STAR Distortion\":[],\n",
        "    \"Plurality Veto\":[], \"Plurality Veto Distortion\":[]}\n",
        "    \n",
        "    for i in range(numTest):\n",
        "        test = VoteResult3D(n, m, dimension, distribution)\n",
        "        dict[\"n\"].append(n)\n",
        "        dict[\"m\"].append(m)\n",
        "        dict[\"Dimension\"].append(dimension)\n",
        "        dict[\"Distribution\"].append(test.distribution)\n",
        "        dict[\"OPT\"].append(test.OPTcandidate)\n",
        "\n",
        "        #winners \n",
        "        plurality = test.plurality()\n",
        "        copeland = test.copeland()\n",
        "        stv = test.STV()\n",
        "        borda = test.borda()\n",
        "        star = test.STAR()\n",
        "        pluralityVeto = test.pluralityVeto()\n",
        "\n",
        "        dict[\"Plurality\"].append(plurality)\n",
        "        dict[\"Copeland\"].append(copeland)\n",
        "        dict[\"STV\"].append(stv)\n",
        "        dict[\"Borda\"].append(borda)\n",
        "        dict[\"STAR\"].append(star)\n",
        "        dict[\"Plurality Veto\"].append(pluralityVeto)\n",
        "\n",
        "        dict[\"Plurality Distortion\"].append(test.distortion(plurality))\n",
        "        dict[\"Copeland Distortion\"].append(test.distortion(copeland))\n",
        "        dict[\"STV Distortion\"].append(test.distortion(stv))\n",
        "        dict[\"Borda Distortion\"].append(test.distortion(borda))\n",
        "        dict[\"STAR Distortion\"].append(test.distortion(star))\n",
        "        dict[\"Plurality Veto Distortion\"].append(test.distortion(pluralityVeto))\n",
        "\n",
        "        \n",
        "    df = pd.DataFrame(dict)\n",
        "    df.to_csv('output3D.csv', mode=\"a\",header=None)\n",
        "\n",
        "# Now you have a DataFrame df with the results of your simulations\n"
      ]
    },
    {
      "cell_type": "code",
      "execution_count": 3,
      "metadata": {},
      "outputs": [
        {
          "ename": "KeyboardInterrupt",
          "evalue": "",
          "output_type": "error",
          "traceback": [
            "\u001b[1;31m---------------------------------------------------------------------------\u001b[0m",
            "\u001b[1;31mKeyboardInterrupt\u001b[0m                         Traceback (most recent call last)",
            "\u001b[1;32mc:\\Users\\Michelle Le\\OneDrive\\Tài liệu\\SSRI 2023\\Voting_Distortion.ipynb Cell 4\u001b[0m line \u001b[0;36m7\n\u001b[0;32m      <a href='vscode-notebook-cell:/c%3A/Users/Michelle%20Le/OneDrive/Ta%CC%80i%20li%C3%AA%CC%A3u/SSRI%202023/Voting_Distortion.ipynb#W3sZmlsZQ%3D%3D?line=4'>5</a>\u001b[0m \u001b[39mfor\u001b[39;00m d \u001b[39min\u001b[39;00m dist:\n\u001b[0;32m      <a href='vscode-notebook-cell:/c%3A/Users/Michelle%20Le/OneDrive/Ta%CC%80i%20li%C3%AA%CC%A3u/SSRI%202023/Voting_Distortion.ipynb#W3sZmlsZQ%3D%3D?line=5'>6</a>\u001b[0m     \u001b[39mfor\u001b[39;00m m \u001b[39min\u001b[39;00m marray:\n\u001b[1;32m----> <a href='vscode-notebook-cell:/c%3A/Users/Michelle%20Le/OneDrive/Ta%CC%80i%20li%C3%AA%CC%A3u/SSRI%202023/Voting_Distortion.ipynb#W3sZmlsZQ%3D%3D?line=6'>7</a>\u001b[0m         simulate(\u001b[39m10\u001b[39;49m, n, m, \u001b[39m\"\u001b[39;49m\u001b[39m3D\u001b[39;49m\u001b[39m\"\u001b[39;49m, d)\n",
            "\u001b[1;32mc:\\Users\\Michelle Le\\OneDrive\\Tài liệu\\SSRI 2023\\Voting_Distortion.ipynb Cell 4\u001b[0m line \u001b[0;36m1\n\u001b[0;32m     <a href='vscode-notebook-cell:/c%3A/Users/Michelle%20Le/OneDrive/Ta%CC%80i%20li%C3%AA%CC%A3u/SSRI%202023/Voting_Distortion.ipynb#W3sZmlsZQ%3D%3D?line=14'>15</a>\u001b[0m \u001b[39m#winners \u001b[39;00m\n\u001b[0;32m     <a href='vscode-notebook-cell:/c%3A/Users/Michelle%20Le/OneDrive/Ta%CC%80i%20li%C3%AA%CC%A3u/SSRI%202023/Voting_Distortion.ipynb#W3sZmlsZQ%3D%3D?line=15'>16</a>\u001b[0m plurality \u001b[39m=\u001b[39m test\u001b[39m.\u001b[39mplurality()\n\u001b[1;32m---> <a href='vscode-notebook-cell:/c%3A/Users/Michelle%20Le/OneDrive/Ta%CC%80i%20li%C3%AA%CC%A3u/SSRI%202023/Voting_Distortion.ipynb#W3sZmlsZQ%3D%3D?line=16'>17</a>\u001b[0m copeland \u001b[39m=\u001b[39m test\u001b[39m.\u001b[39;49mcopeland()\n\u001b[0;32m     <a href='vscode-notebook-cell:/c%3A/Users/Michelle%20Le/OneDrive/Ta%CC%80i%20li%C3%AA%CC%A3u/SSRI%202023/Voting_Distortion.ipynb#W3sZmlsZQ%3D%3D?line=17'>18</a>\u001b[0m stv \u001b[39m=\u001b[39m test\u001b[39m.\u001b[39mSTV()\n\u001b[0;32m     <a href='vscode-notebook-cell:/c%3A/Users/Michelle%20Le/OneDrive/Ta%CC%80i%20li%C3%AA%CC%A3u/SSRI%202023/Voting_Distortion.ipynb#W3sZmlsZQ%3D%3D?line=18'>19</a>\u001b[0m borda \u001b[39m=\u001b[39m test\u001b[39m.\u001b[39mborda()\n",
            "File \u001b[1;32mc:\\Users\\Michelle Le\\OneDrive\\Tài liệu\\SSRI 2023\\VoteRules3D.py:179\u001b[0m, in \u001b[0;36mVoteResult3D.copeland\u001b[1;34m(self)\u001b[0m\n\u001b[0;32m    177\u001b[0m found \u001b[39m=\u001b[39m \u001b[39mFalse\u001b[39;00m\n\u001b[0;32m    178\u001b[0m k \u001b[39m=\u001b[39m \u001b[39m0\u001b[39m\n\u001b[1;32m--> 179\u001b[0m \u001b[39mwhile\u001b[39;00m \u001b[39mnot\u001b[39;00m found:\n\u001b[0;32m    180\u001b[0m     \u001b[39mif\u001b[39;00m ballot[k] \u001b[39m==\u001b[39m \u001b[39mself\u001b[39m\u001b[39m.\u001b[39mcandidates[i]:\n\u001b[0;32m    181\u001b[0m         score1 \u001b[39m+\u001b[39m\u001b[39m=\u001b[39m \u001b[39m1\u001b[39m\n",
            "\u001b[1;31mKeyboardInterrupt\u001b[0m: "
          ]
        }
      ],
      "source": [
        "dist = [\"normal\", \"uniform\", \"poisson\", \"bimodal\"]\n",
        "marray = [5, 10, 50, 100]\n",
        "n=200\n",
        "\n",
        "for d in dist:\n",
        "    for m in marray:\n",
        "        simulate(500, n, m, \"3D\", d)"
      ]
    },
    {
      "cell_type": "code",
      "execution_count": null,
      "metadata": {},
      "outputs": [],
      "source": []
    }
  ],
  "metadata": {
    "colab": {
      "authorship_tag": "ABX9TyOSsh/toEue5+hmHTYoGw9+",
      "include_colab_link": true,
      "provenance": []
    },
    "kernelspec": {
      "display_name": "Python 3",
      "name": "python3"
    },
    "language_info": {
      "codemirror_mode": {
        "name": "ipython",
        "version": 3
      },
      "file_extension": ".py",
      "mimetype": "text/x-python",
      "name": "python",
      "nbconvert_exporter": "python",
      "pygments_lexer": "ipython3",
      "version": "3.10.6"
    }
  },
  "nbformat": 4,
  "nbformat_minor": 0
}
